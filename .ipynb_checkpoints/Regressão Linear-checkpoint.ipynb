{
 "cells": [
  {
   "cell_type": "markdown",
   "metadata": {},
   "source": [
    "# OBS: Botar as fórmulas aqui\n",
    "# Regressão Linear\n",
    "\n",
    ">  1. Implementação Regressão Linear via Gradiente Descendente\n",
    ">  2. Implementação Regressão Linear via Gradiente Descendente Estocástico\n",
    ">  3. Implementação Regressão Linear Multivariada via Gradiente Descendente\n",
    ">  4. Implementação Regressão Linear Multivariada via Gradiente Descendente Estocástico\n",
    ">  4. Implementação Regressão Linear Analítica - OLS - Minímos quadrados ordinários\n",
    "\n",
    "\n",
    "\n",
    "# 1. Implementação Regressão Linear via Gradiente Descendente"
   ]
  },
  {
   "cell_type": "code",
   "execution_count": 2,
   "metadata": {},
   "outputs": [],
   "source": [
    "import numpy as np\n",
    "import pandas as pd"
   ]
  },
  {
   "cell_type": "code",
   "execution_count": 17,
   "metadata": {},
   "outputs": [
    {
     "data": {
      "text/plain": [
       "566.3961"
      ]
     },
     "execution_count": 17,
     "metadata": {},
     "output_type": "execute_result"
    }
   ],
   "source": [
    "data = pd.read_csv(\"data.csv\")\n",
    "lenght = data['x'].count()\n",
    "w1, w2, alpha = 0., 0., 0.01\n",
    "y = np.array(data['y'])\n",
    "x = np.array(data['x'])\n",
    "y_linha = np.zeros(lenght)"
   ]
  },
  {
   "cell_type": "code",
   "execution_count": 19,
   "metadata": {},
   "outputs": [],
   "source": [
    "for _ in range(0,1000):\n",
    "    y_linha = w1 + w2*x\n",
    "    w1 += alpha*1/lenght * np.sum(y - y_linha)\n",
    "    w2 += alpha*1/lenght * np.sum((y - y_linha)*x)\n",
    "    #print(\"w1 %d\" %(w1))"
   ]
  },
  {
   "cell_type": "code",
   "execution_count": null,
   "metadata": {},
   "outputs": [],
   "source": []
  }
 ],
 "metadata": {
  "kernelspec": {
   "display_name": "Python 3",
   "language": "python",
   "name": "python3"
  },
  "language_info": {
   "codemirror_mode": {
    "name": "ipython",
    "version": 3
   },
   "file_extension": ".py",
   "mimetype": "text/x-python",
   "name": "python",
   "nbconvert_exporter": "python",
   "pygments_lexer": "ipython3",
   "version": "3.7.1"
  }
 },
 "nbformat": 4,
 "nbformat_minor": 2
}
