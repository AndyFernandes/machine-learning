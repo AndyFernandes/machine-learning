{
 "cells": [
  {
   "cell_type": "markdown",
   "metadata": {},
   "source": [
    "# Importações"
   ]
  },
  {
   "cell_type": "code",
   "execution_count": 20,
   "metadata": {},
   "outputs": [],
   "source": [
    "import numpy as np\n",
    "import pandas as pd\n",
    "import matplotlib.pyplot as plt\n",
    "from scipy.stats import multivariate_normal\n",
    "from sklearn.tree import DecisionTreeClassifier\n",
    "import warnings\n",
    "warnings.filterwarnings(\"ignore\")\n",
    "from sklearn import datasets\n",
    "from sklearn.metrics import confusion_matrix\n",
    "import common as com\n",
    "import logistic_regression as logreg\n",
    "import knn\n",
    "import statistical_classifiers as stat\n",
    "from sklearn.datasets import fetch_openml\n",
    "from sklearn import datasets\n",
    "from sklearn.ensemble import BaggingClassifier\n",
    "from sklearn.ensemble import RandomForestClassifier\n",
    "from sklearn.ensemble import AdaBoostClassifier\n",
    "from sklearn.tree import DecisionTreeClassifier\n",
    "from sklearn.neighbors import KNeighborsClassifier\n",
    "from sklearn.svm import SVC\n",
    "from sklearn.model_selection import ShuffleSplit\n",
    "\n",
    "np.random.seed(12345)\n",
    "\n",
    "train_ratio = 0.8\n",
    "validation_ratio = 0.2"
   ]
  },
  {
   "cell_type": "markdown",
   "metadata": {},
   "source": [
    "# Dados"
   ]
  },
  {
   "cell_type": "code",
   "execution_count": 11,
   "metadata": {},
   "outputs": [
    {
     "name": "stdout",
     "output_type": "stream",
     "text": [
      "Número de padrões: 214\n",
      "Número de atributos: 9\n",
      "Número de classes: 6\n"
     ]
    },
    {
     "data": {
      "image/png": "[encoded data removed]",
      "text/plain": [
       "<Figure size 576x432 with 1 Axes>"
      ]
     },
     "metadata": {
      "needs_background": "light"
     },
     "output_type": "display_data"
    }
   ],
   "source": [
    "\n",
    "# data = fetch_openml(name='mfeat-karhunen')\n",
    "# data = fetch_openml(name='heart-statlog')\n",
    "# data = fetch_openml(name='vehicle')\n",
    "#data = fetch_openml(name='sonar')\n",
    "data = fetch_openml(name='glass')\n",
    "#data = fetch_openml(name='ecoli')\n",
    "#data = fetch_openml(name='yeast')\n",
    "label_names = np.unique(data.target)\n",
    "x = data.data\n",
    "y = np.zeros(data.target.shape[0], dtype=int)\n",
    "for k, k_label in enumerate(label_names):\n",
    "   y[data.target == k_label] = k\n",
    "\n",
    "#data_table = pd.read_csv('data/ex2data1.txt', header=None)\n",
    "#data_table = pd.read_csv('data/ex2data2.txt', header=None)\n",
    "#data_table = pd.read_csv('data/blobs.txt', header=None)\n",
    "#data_table = pd.read_csv('data/blobs2.txt', header=None)\n",
    "#data_table = pd.read_csv('data/moons.txt', header=None)\n",
    "#x = data_table.drop(data_table.columns[-1], axis=1).values\n",
    "#y = data_table.iloc[:,data_table.columns[-1]].values\n",
    "#label_names = np.unique(y)\n",
    "\n",
    "#x, y = datasets.load_iris(return_X_y=True); label_names = datasets.load_iris()['target_names']\n",
    "#x, y = datasets.load_digits(return_X_y=True); label_names = datasets.load_digits()['target_names']\n",
    "#x, y = datasets.load_wine(return_X_y=True); label_names = datasets.load_wine()['target_names']\n",
    "#x, y = datasets.load_breast_cancer(return_X_y=True); label_names = datasets.load_breast_cancer()['target_names']\n",
    "#data = datasets.fetch_olivetti_faces(); x, y = data['data'], data['target']; label_names = np.unique(data['target'])\n",
    "\n",
    "print(\"Número de padrões: %d\" % x.shape[0])\n",
    "print(\"Número de atributos: %d\" % x.shape[1])\n",
    "print(\"Número de classes: %d\" % np.unique(y).shape[0])\n",
    "\n",
    "labels = [0, 1, 2]\n",
    "colors = ['green', 'blue', 'red']\n",
    "\n",
    "def plot_data(x, y, marker='o', legend=False, only_data=False):\n",
    "    plt.rcParams.update({'font.size': com.fontsize})\n",
    "    for i, label in enumerate(labels):\n",
    "        if only_data:\n",
    "            plt.scatter(x[y == label,0], x[y == label,1],\n",
    "                        s=10*com.markersize, marker=marker, color=colors[i])\n",
    "        else:        \n",
    "            plt.scatter(x[y == label,0], x[y == label,1],\n",
    "                        s=10*com.markersize, marker=marker, color=colors[i])\n",
    "    if legend:\n",
    "        plt.legend()\n",
    "        \n",
    "    \n",
    "fig = plt.figure(figsize=com.figsize)\n",
    "plot_data(x, y)\n",
    "#plt.savefig('figs/blobs2.png', dpi=com.dpi)\n",
    "plt.show()\n",
    "xlim = fig.gca().get_xlim() \n",
    "ylim = fig.gca().get_ylim() "
   ]
  },
  {
   "cell_type": "markdown",
   "metadata": {},
   "source": [
    "# Divisão Treino-Teste"
   ]
  },
  {
   "cell_type": "code",
   "execution_count": 5,
   "metadata": {},
   "outputs": [
    {
     "name": "stdout",
     "output_type": "stream",
     "text": [
      "Número de padrões de treinamento: 190\n",
      "Número de padrões de teste: 80\n"
     ]
    }
   ],
   "source": [
    "np.random.seed(12345)\n",
    "\n",
    "number_train = int(np.ceil(0.7*(x.shape[0])))\n",
    "random_index = np.random.permutation(x.shape[0])\n",
    "train_index = random_index[:number_train+1]\n",
    "test_index = random_index[number_train+1:]\n",
    "\n",
    "x_train = x[train_index]\n",
    "x_test = x[test_index]\n",
    "y_train = y[train_index]\n",
    "y_test = y[test_index]\n",
    "\n",
    "print(\"Número de padrões de treinamento: %d\" % len(y_train))\n",
    "print(\"Número de padrões de teste: %d\" % len(y_test))"
   ]
  },
  {
   "cell_type": "markdown",
   "metadata": {},
   "source": [
    "# Normalização dos Dados"
   ]
  },
  {
   "cell_type": "code",
   "execution_count": 6,
   "metadata": {},
   "outputs": [],
   "source": [
    "normalize_data = True\n",
    "\n",
    "if normalize_data:\n",
    "    x_mean = np.mean(x_train, axis=0)        \n",
    "    x_train -= x_mean\n",
    "    x_std = np.std(x_train, axis=0)\n",
    "    index_not_zero = x_std > 0\n",
    "    x_train[:,index_not_zero] /= x_std[index_not_zero]\n",
    "    \n",
    "    x_test -= x_mean\n",
    "    x_test[:,index_not_zero] /= x_std[index_not_zero]"
   ]
  },
  {
   "cell_type": "markdown",
   "metadata": {},
   "source": [
    "# Validação"
   ]
  },
  {
   "cell_type": "code",
   "execution_count": 13,
   "metadata": {},
   "outputs": [
    {
     "name": "stdout",
     "output_type": "stream",
     "text": [
      "Conjunto de treinamento: 134 amostras\n",
      "Conjunto de validação: 56 amostras\n"
     ]
    }
   ],
   "source": [
    "number_validation = int(np.ceil(0.3*(x_train.shape[0])))\n",
    "number_train_validation = x_train.shape[0] - number_validation\n",
    "\n",
    "random_index = np.random.permutation(x_train.shape[0])\n",
    "train_index = random_index[:number_train_validation+1]\n",
    "validation_index = random_index[number_train_validation+1:number_train_validation+number_validation+1]\n",
    "\n",
    "x_train_validation, x_validation = x_train[train_index], x_train[validation_index]\n",
    "y_train_validation, y_validation = y_train[train_index], y_train[validation_index]\n",
    "\n",
    "print(\"Conjunto de treinamento: %d amostras\" % y_train_validation.shape[0])\n",
    "print(\"Conjunto de validação: %d amostras\" % y_validation.shape[0])"
   ]
  },
  {
   "cell_type": "code",
   "execution_count": 31,
   "metadata": {},
   "outputs": [
    {
     "data": {
      "text/plain": [
       "array([[ 1.51736, 12.78   ,  3.62   , ...,  8.7    ,  0.     ,  0.     ],\n",
       "       [ 1.51727, 14.7    ,  0.     , ...,  8.95   ,  0.66   ,  0.     ],\n",
       "       [ 1.52664, 11.23   ,  0.     , ..., 14.68   ,  0.     ,  0.     ],\n",
       "       ...,\n",
       "       [ 1.51589, 12.88   ,  3.43   , ...,  8.05   ,  0.     ,  0.24   ],\n",
       "       [ 1.51838, 14.32   ,  3.26   , ...,  5.79   ,  1.63   ,  0.     ],\n",
       "       [ 1.5186 , 13.36   ,  3.43   , ...,  8.6    ,  0.     ,  0.     ]])"
      ]
     },
     "execution_count": 31,
     "metadata": {},
     "output_type": "execute_result"
    }
   ],
   "source": [
    "cv = ShuffleSplit(n_splits=25, test_size=0.2, random_state=0)\n",
    "index = cv.split(x)\n",
    "for index_test, index_train in index:\n",
    "#     print(index_test)\n",
    "    aaa = x[index_test]\n",
    "aaa"
   ]
  },
  {
   "cell_type": "markdown",
   "metadata": {},
   "source": [
    "# Modelos"
   ]
  },
  {
   "cell_type": "code",
   "execution_count": 46,
   "metadata": {},
   "outputs": [
    {
     "name": "stdout",
     "output_type": "stream",
     "text": [
      "[ KNN ] K = 3, mean train_error=17.73%, mean test_error=33.49%\n",
      "[ KNN ] K = 3, std train_error=1.50%, std test_error=6.06%\n",
      "[ BAGGING KNN ] K = 3, mean train_error=15.69%, mean test_error=34.05%\n",
      "[ BAGGING KNN ] K = 3, std train_error=1.87%, std test_error=6.90%\n"
     ]
    }
   ],
   "source": [
    "# KNN\n",
    "cv = ShuffleSplit(n_splits=25, test_size=0.2, random_state=0)\n",
    "train_error = []\n",
    "test_error = []\n",
    "\n",
    "for train_index, test_index in cv.split(x):\n",
    "    x_train = x[train_index]\n",
    "    x_test = x[test_index]\n",
    "    y_train = y[train_index]\n",
    "    y_test = y[test_index]\n",
    "    model = KNeighborsClassifier(n_neighbors=3)\n",
    "    model.fit(x_train, y_train) \n",
    "    train_error.append(np.round(100*np.mean(y_train != model.predict(x_train)), 2))\n",
    "    test_error.append(np.round(100*np.mean(y_test != model.predict(x_test)), 2))\n",
    "\n",
    "std_train = np.std(np.array(train_error))\n",
    "std_test = np.std(np.array(test_error))\n",
    "mean_train = np.mean(np.array(train_error))\n",
    "mean_test = np.mean(np.array(test_error))\n",
    "print(\"[ KNN ] K = 3, mean train_error=%.2f%%, mean test_error=%.2f%%\" % (mean_train, mean_test))\n",
    "print(\"[ KNN ] K = 3, std train_error=%.2f%%, std test_error=%.2f%%\" % (std_train, std_test))\n",
    "\n",
    "################################################################################################################\n",
    "train_error = []\n",
    "test_error = []\n",
    "for train_index, test_index in cv.split(x):\n",
    "    x_train = x[train_index]\n",
    "    x_test = x[test_index]\n",
    "    y_train = y[train_index]\n",
    "    y_test = y[test_index]\n",
    "\n",
    "    n_estimators_list = [10] # número de modelos\n",
    "\n",
    "    for i, n_estimators in enumerate(n_estimators_list):\n",
    "        base_classifier = KNeighborsClassifier(n_neighbors=3)\n",
    "        #base_classifier = DecisionTreeClassifier()\n",
    "        model = BaggingClassifier(base_classifier, n_estimators=n_estimators,\n",
    "                                  max_samples=1.0, n_jobs=-1, random_state=12345)\n",
    "\n",
    "        model.fit(x_train, y_train) \n",
    "\n",
    "        train_error.append(np.round(100*np.mean(y_train != model.predict(x_train)), 2))\n",
    "        test_error.append(np.round(100*np.mean(y_test != model.predict(x_test)), 2))\n",
    "std_train = np.std(np.array(train_error))\n",
    "std_test = np.std(np.array(test_error))\n",
    "mean_train = np.mean(np.array(train_error))\n",
    "mean_test = np.mean(np.array(test_error))\n",
    "print(\"[ BAGGING KNN ] K = 3, mean train_error=%.2f%%, mean test_error=%.2f%%\" % (mean_train, mean_test))\n",
    "print(\"[ BAGGING KNN ] K = 3, std train_error=%.2f%%, std test_error=%.2f%%\" % (std_train, std_test))"
   ]
  },
  {
   "cell_type": "code",
   "execution_count": 47,
   "metadata": {},
   "outputs": [
    {
     "name": "stdout",
     "output_type": "stream",
     "text": [
      "[ Árvore de Decisão ] mean train_error=0.00%, mean test_error=30.42%\n",
      "[ Árvore de Decisão ] std train_error=0.00%, std test_error=6.64%\n",
      "[ BAGGING Árvore de Decisão ] mean train_error=1.03%, mean test_error=27.07%\n",
      "[ BAGGING Árvore de Decisão ] std train_error=0.65%, std test_error=6.99%\n"
     ]
    }
   ],
   "source": [
    "# Árvore de Decisão\n",
    "cv = ShuffleSplit(n_splits=25, test_size=0.2, random_state=0)\n",
    "train_error = []\n",
    "test_error = []\n",
    "\n",
    "for train_index, test_index in cv.split(x):\n",
    "    x_train = x[train_index]\n",
    "    x_test = x[test_index]\n",
    "    y_train = y[train_index]\n",
    "    y_test = y[test_index]\n",
    "    model = DecisionTreeClassifier()\n",
    "    model.fit(x_train, y_train) \n",
    "    train_error.append(np.round(100*np.mean(y_train != model.predict(x_train)), 2))\n",
    "    test_error.append(np.round(100*np.mean(y_test != model.predict(x_test)), 2))\n",
    "\n",
    "std_train = np.std(np.array(train_error))\n",
    "std_test = np.std(np.array(test_error))\n",
    "mean_train = np.mean(np.array(train_error))\n",
    "mean_test = np.mean(np.array(test_error))\n",
    "print(\"[ Árvore de Decisão ] mean train_error=%.2f%%, mean test_error=%.2f%%\" % (mean_train, mean_test))\n",
    "print(\"[ Árvore de Decisão ] std train_error=%.2f%%, std test_error=%.2f%%\" % (std_train, std_test))\n",
    "\n",
    "################################################################################################################\n",
    "train_error = []\n",
    "test_error = []\n",
    "for train_index, test_index in cv.split(x):\n",
    "    x_train = x[train_index]\n",
    "    x_test = x[test_index]\n",
    "    y_train = y[train_index]\n",
    "    y_test = y[test_index]\n",
    "\n",
    "    n_estimators_list = [10] # número de modelos\n",
    "\n",
    "    for i, n_estimators in enumerate(n_estimators_list):\n",
    "        #base_classifier = KNeighborsClassifier(n_neighbors=3)\n",
    "        base_classifier = DecisionTreeClassifier()\n",
    "        model = BaggingClassifier(base_classifier, n_estimators=n_estimators,\n",
    "                                  max_samples=1.0, n_jobs=-1, random_state=12345)\n",
    "\n",
    "        model.fit(x_train, y_train) \n",
    "\n",
    "        train_error.append(np.round(100*np.mean(y_train != model.predict(x_train)), 2))\n",
    "        test_error.append(np.round(100*np.mean(y_test != model.predict(x_test)), 2))\n",
    "std_train = np.std(np.array(train_error))\n",
    "std_test = np.std(np.array(test_error))\n",
    "mean_train = np.mean(np.array(train_error))\n",
    "mean_test = np.mean(np.array(test_error))\n",
    "print(\"[ BAGGING Árvore de Decisão ] mean train_error=%.2f%%, mean test_error=%.2f%%\" % (mean_train, mean_test))\n",
    "print(\"[ BAGGING Árvore de Decisão ] std train_error=%.2f%%, std test_error=%.2f%%\" % (std_train, std_test))"
   ]
  },
  {
   "cell_type": "code",
   "execution_count": null,
   "metadata": {},
   "outputs": [],
   "source": [
    "# MLP\n",
    "cv = ShuffleSplit(n_splits=25, test_size=0.2, random_state=0)\n",
    "train_error = []\n",
    "test_error = []\n",
    "\n",
    "for train_index, test_index in cv.split(x):\n",
    "    x_train = x[train_index]\n",
    "    x_test = x[test_index]\n",
    "    y_train = y[train_index]\n",
    "    y_test = y[test_index]\n",
    "    model = DecisionTreeClassifier()\n",
    "    model.fit(x_train, y_train) \n",
    "    train_error.append(np.round(100*np.mean(y_train != model.predict(x_train)), 2))\n",
    "    test_error.append(np.round(100*np.mean(y_test != model.predict(x_test)), 2))\n",
    "\n",
    "std_train = np.std(np.array(train_error))\n",
    "std_test = np.std(np.array(test_error))\n",
    "mean_train = np.mean(np.array(train_error))\n",
    "mean_test = np.mean(np.array(test_error))\n",
    "print(\"[ Árvore de Decisão ] mean train_error=%.2f%%, mean test_error=%.2f%%\" % (mean_train, mean_test))\n",
    "print(\"[ Árvore de Decisão ] std train_error=%.2f%%, std test_error=%.2f%%\" % (std_train, std_test))\n",
    "\n",
    "################################################################################################################\n",
    "train_error = []\n",
    "test_error = []\n",
    "for train_index, test_index in cv.split(x):\n",
    "    x_train = x[train_index]\n",
    "    x_test = x[test_index]\n",
    "    y_train = y[train_index]\n",
    "    y_test = y[test_index]\n",
    "\n",
    "    n_estimators_list = [10] # número de modelos\n",
    "\n",
    "    for i, n_estimators in enumerate(n_estimators_list):\n",
    "        #base_classifier = KNeighborsClassifier(n_neighbors=3)\n",
    "        base_classifier = DecisionTreeClassifier()\n",
    "        model = BaggingClassifier(base_classifier, n_estimators=n_estimators,\n",
    "                                  max_samples=1.0, n_jobs=-1, random_state=12345)\n",
    "\n",
    "        model.fit(x_train, y_train) \n",
    "\n",
    "        train_error.append(np.round(100*np.mean(y_train != model.predict(x_train)), 2))\n",
    "        test_error.append(np.round(100*np.mean(y_test != model.predict(x_test)), 2))\n",
    "std_train = np.std(np.array(train_error))\n",
    "std_test = np.std(np.array(test_error))\n",
    "mean_train = np.mean(np.array(train_error))\n",
    "mean_test = np.mean(np.array(test_error))\n",
    "print(\"[ BAGGING Árvore de Decisão ] mean train_error=%.2f%%, mean test_error=%.2f%%\" % (mean_train, mean_test))\n",
    "print(\"[ BAGGING Árvore de Decisão ] std train_error=%.2f%%, std test_error=%.2f%%\" % (std_train, std_test))"
   ]
  }
 ],
 "metadata": {
  "kernelspec": {
   "display_name": "Python 3",
   "language": "python",
   "name": "python3"
  },
  "language_info": {
   "codemirror_mode": {
    "name": "ipython",
    "version": 3
   },
   "file_extension": ".py",
   "mimetype": "text/x-python",
   "name": "python",
   "nbconvert_exporter": "python",
   "pygments_lexer": "ipython3",
   "version": "3.7.1"
  }
 },
 "nbformat": 4,
 "nbformat_minor": 2
}
