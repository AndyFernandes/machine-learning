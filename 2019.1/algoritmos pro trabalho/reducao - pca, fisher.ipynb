{
 "cells": [
  {
   "cell_type": "markdown",
   "metadata": {},
   "source": [
    "# FISHER SCORE"
   ]
  },
  {
   "cell_type": "code",
   "execution_count": null,
   "metadata": {},
   "outputs": [],
   "source": [
    "def fisher_score(x, y):\n",
    "    mean = np.mean(x, axis=0)\n",
    "    classes = np.unique(y)\n",
    "    sS = 0\n",
    "    sD = 0\n",
    "    Nk = []\n",
    "    \n",
    "    meanD = []\n",
    "    varD = []\n",
    "    \n",
    "    for k in classes:\n",
    "        elements = []\n",
    "        s = 0\n",
    "        for i in range(0, len(y)):\n",
    "            if(y[i] == k):\n",
    "                s += 1\n",
    "                elements.append(x[i])\n",
    "        meanD.append(np.mean(elements, axis=0))\n",
    "        varD.append(np.var(elements, axis=0))\n",
    "        Nk.append(s)\n",
    "    \n",
    "    for k in range(0, len(classes)):\n",
    "        sS += (Nk[k] * ((meanD[k] - mean)**2))\n",
    "        sD += (Nk[k] * varD[k])\n",
    "    return sS/sD"
   ]
  },
  {
   "cell_type": "markdown",
   "metadata": {},
   "source": [
    "# PCA"
   ]
  },
  {
   "cell_type": "code",
   "execution_count": 1,
   "metadata": {},
   "outputs": [
    {
     "ename": "SyntaxError",
     "evalue": "unexpected EOF while parsing (<ipython-input-1-a412b710124d>, line 12)",
     "output_type": "error",
     "traceback": [
      "\u001b[0;36m  File \u001b[0;32m\"<ipython-input-1-a412b710124d>\"\u001b[0;36m, line \u001b[0;32m12\u001b[0m\n\u001b[0;31m    def transform(x, pca_result, dim=2):\u001b[0m\n\u001b[0m                                        ^\u001b[0m\n\u001b[0;31mSyntaxError\u001b[0m\u001b[0;31m:\u001b[0m unexpected EOF while parsing\n"
     ]
    }
   ],
   "source": [
    "from scipy.linalg import svd \n",
    "\n",
    "def compute(x):\n",
    "    mean = np.mean(x, axis = 0)\n",
    "    cov = np.cov(x)\n",
    "    \n",
    "    S, U, V = svd(cov)\n",
    "    M = S @ U @ np.tranpose(V)\n",
    "    P = np.transpose(U)\n",
    "    return {'S': S, 'U': U, 'V': V, 'M': M, 'P': P}\n",
    "\n",
    "def transform(x, pca_result, dim=2):"
   ]
  },
  {
   "cell_type": "code",
   "execution_count": null,
   "metadata": {},
   "outputs": [],
   "source": []
  }
 ],
 "metadata": {
  "kernelspec": {
   "display_name": "Python 3",
   "language": "python",
   "name": "python3"
  },
  "language_info": {
   "codemirror_mode": {
    "name": "ipython",
    "version": 3
   },
   "file_extension": ".py",
   "mimetype": "text/x-python",
   "name": "python",
   "nbconvert_exporter": "python",
   "pygments_lexer": "ipython3",
   "version": "3.7.3"
  }
 },
 "nbformat": 4,
 "nbformat_minor": 2
}
