{
 "cells": [
  {
   "cell_type": "code",
   "execution_count": 14,
   "metadata": {},
   "outputs": [],
   "source": [
    "import numpy as np\n",
    "import pandas as pd\n",
    "import matplotlib.pyplot as plt\n",
    "from math import log, pi"
   ]
  },
  {
   "cell_type": "code",
   "execution_count": 7,
   "metadata": {},
   "outputs": [
    {
     "data": {
      "text/plain": [
       "array([0.25, 0.25])"
      ]
     },
     "execution_count": 7,
     "metadata": {},
     "output_type": "execute_result"
    }
   ],
   "source": [
    "np.var(np.array([[1,2],[2,1]]), axis=0)"
   ]
  },
  {
   "cell_type": "markdown",
   "metadata": {},
   "source": [
    "# 2. Naive Bayes tradicional"
   ]
  },
  {
   "cell_type": "markdown",
   "metadata": {},
   "source": [
    "# 3. Análise de Discriminante Gaussiano"
   ]
  },
  {
   "cell_type": "markdown",
   "metadata": {},
   "source": [
    "# 1. Naive Bayes Gaussiano"
   ]
  },
  {
   "cell_type": "code",
   "execution_count": 16,
   "metadata": {},
   "outputs": [
    {
     "data": {
      "text/plain": [
       "{0.0: {'mean': array([0.00902745, 1.09005612]),\n",
       "  'var': array([2.96935733, 2.53378593])},\n",
       " 1.0: {'mean': array([6.03155088, 0.91906275]),\n",
       "  'var': array([2.33753767, 2.61659692])},\n",
       " 2.0: {'mean': array([2.92923512, 6.40278983]),\n",
       "  'var': array([0.81776663, 4.85737166])}}"
      ]
     },
     "execution_count": 16,
     "metadata": {},
     "output_type": "execute_result"
    }
   ],
   "source": [
    "blobs2 = pd.read_csv(\"blobs2.csv\", names=[\"x1\", \"x2\", \"y\"])\n",
    "len_2 = blobs2.shape[0]\n",
    "\n",
    "def train(dataset, tamanho):\n",
    "    classes = {}\n",
    "    # Separando as classes\n",
    "    for i in range(0, tamanho):\n",
    "        row = [x for x in np.array(dataset.iloc[[i]])[0]]\n",
    "        if row[-1] not in classes:\n",
    "            classes[row[-1]] = []\n",
    "        classes[row[-1]].append(row[:2])\n",
    "    \n",
    "    # Calculando média e covariancia\n",
    "    mean_variance_classes = {}\n",
    "\n",
    "    for key in classes.keys():\n",
    "        mean_variance_classes[key] = {}\n",
    "        mean_variance_classes[key]['mean'] = np.mean(np.array(classes[key]), axis=0)\n",
    "        mean_variance_classes[key]['var'] = np.var(np.array(classes[key]), axis=0)             \n",
    "    \n",
    "    return mean_variance_classes\n",
    "\n",
    "def predict(dict_means, tamanho, teste):\n",
    "    # Ver onde vou encaixar esse somatório\n",
    "    function = lambda mean, cov, x, pck: -0.5 * log((2*pi*cov)) - (1/(2*cov))*((x - mean)**2) + log(pck)\n",
    "    probs = []\n",
    "    pck = len(dict_means.keys())/tamanho;\n",
    "    for key in dict_means.keys():\n",
    "        somatorio = 0\n",
    "        for i in range(0, len(dict_means[key]['mean'])):\n",
    "            somatorio += function(dict_means[key]['mean'][i], dict_means[key]['var'][i], x[i], pck)\n",
    "        probls.append({key:})\n",
    "            classes = train(blobs2, len_2)\n",
    "classes\n"
   ]
  },
  {
   "cell_type": "code",
   "execution_count": null,
   "metadata": {},
   "outputs": [],
   "source": [
    "#media = np.mean(classes[key])\n",
    "            #variancia = [ for x in ]\n",
    "            # para cada dimensão media e variancia\n",
    "            #mean_covariance_classes[key] = (np.mean(classes[key]), "
   ]
  },
  {
   "cell_type": "code",
   "execution_count": 4,
   "metadata": {},
   "outputs": [
    {
     "data": {
      "text/plain": [
       "array([1.5, 1.5])"
      ]
     },
     "execution_count": 4,
     "metadata": {},
     "output_type": "execute_result"
    }
   ],
   "source": [
    "np.mean(np.array([[1,2],[2,1]]), axis=0)"
   ]
  },
  {
   "cell_type": "code",
   "execution_count": 5,
   "metadata": {},
   "outputs": [
    {
     "data": {
      "text/plain": [
       "array([[ 0.5, -0.5],\n",
       "       [-0.5,  0.5]])"
      ]
     },
     "execution_count": 5,
     "metadata": {},
     "output_type": "execute_result"
    }
   ],
   "source": [
    "np.cov(np.array([[1,2],[2,1]]))"
   ]
  }
 ],
 "metadata": {
  "kernelspec": {
   "display_name": "Python 3",
   "language": "python",
   "name": "python3"
  },
  "language_info": {
   "codemirror_mode": {
    "name": "ipython",
    "version": 3
   },
   "file_extension": ".py",
   "mimetype": "text/x-python",
   "name": "python",
   "nbconvert_exporter": "python",
   "pygments_lexer": "ipython3",
   "version": "3.7.1"
  }
 },
 "nbformat": 4,
 "nbformat_minor": 2
}
