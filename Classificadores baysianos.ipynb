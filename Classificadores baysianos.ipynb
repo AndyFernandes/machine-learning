{
 "cells": [
  {
   "cell_type": "markdown",
   "metadata": {},
   "source": [
    "# Naive Bayes"
   ]
  },
  {
   "cell_type": "code",
   "execution_count": 14,
   "metadata": {},
   "outputs": [],
   "source": [
    "import numpy as np\n",
    "import pandas as pd\n",
    "import matplotlib.pyplot as plt\n",
    "from math import log, pi"
   ]
  },
  {
   "cell_type": "code",
   "execution_count": 7,
   "metadata": {},
   "outputs": [
    {
     "data": {
      "text/plain": [
       "array([0.25, 0.25])"
      ]
     },
     "execution_count": 7,
     "metadata": {},
     "output_type": "execute_result"
    }
   ],
   "source": [
    "np.var(np.array([[1,2],[2,1]]), axis=0)"
   ]
  },
  {
   "cell_type": "code",
   "execution_count": 15,
   "metadata": {},
   "outputs": [],
   "source": [
    "blobs2 = pd.read_csv(\"blobs2.csv\", names=[\"x1\", \"x2\", \"y\"])\n",
    "len_2 = blobs2.shape[0]\n",
    "\n",
    "def train(dataset, tamanho):\n",
    "    classes = {}\n",
    "    # Separando as classes\n",
    "    for i in range(0, tamanho):\n",
    "        row = [x for x in np.array(dataset.iloc[[i]])[0]]\n",
    "        if row[-1] not in classes:\n",
    "            classes[row[-1]] = []\n",
    "        classes[row[-1]].append(row[:2])\n",
    "    \n",
    "    # Calculando média e covariancia\n",
    "    mean_variance_classes = {}\n",
    "\n",
    "    for key in classes.keys():\n",
    "        mean_variance_classes[key] = {}\n",
    "        mean_variance_classes[key]['mean'] = np.mean(np.array(classes[key]), axis=0)\n",
    "        mean_variance_classes[key]['var'] = np.var(np.array(classes[key]), axis=0)             \n",
    "    \n",
    "    return mean_variance_classes\n",
    "\n",
    "def predict(dict_with_mean_cov, tamanho, teste):\n",
    "    # Ver onde vou encaixar esse somatório\n",
    "    function = lambda mean, cov, x, pck: -0.5 * log((2*pi*cov)) - (1/(2*cov))*((x - mean)**2) + log(pck)\n",
    "classes = train(blobs2, len_2)\n"
   ]
  },
  {
   "cell_type": "code",
   "execution_count": null,
   "metadata": {},
   "outputs": [],
   "source": [
    "#media = np.mean(classes[key])\n",
    "            #variancia = [ for x in ]\n",
    "            # para cada dimensão media e variancia\n",
    "            #mean_covariance_classes[key] = (np.mean(classes[key]), "
   ]
  },
  {
   "cell_type": "code",
   "execution_count": 4,
   "metadata": {},
   "outputs": [
    {
     "data": {
      "text/plain": [
       "array([1.5, 1.5])"
      ]
     },
     "execution_count": 4,
     "metadata": {},
     "output_type": "execute_result"
    }
   ],
   "source": [
    "np.mean(np.array([[1,2],[2,1]]), axis=0)"
   ]
  },
  {
   "cell_type": "code",
   "execution_count": 5,
   "metadata": {},
   "outputs": [
    {
     "data": {
      "text/plain": [
       "array([[ 0.5, -0.5],\n",
       "       [-0.5,  0.5]])"
      ]
     },
     "execution_count": 5,
     "metadata": {},
     "output_type": "execute_result"
    }
   ],
   "source": [
    "np.cov(np.array([[1,2],[2,1]]))"
   ]
  }
 ],
 "metadata": {
  "kernelspec": {
   "display_name": "Python 3",
   "language": "python",
   "name": "python3"
  },
  "language_info": {
   "codemirror_mode": {
    "name": "ipython",
    "version": 3
   },
   "file_extension": ".py",
   "mimetype": "text/x-python",
   "name": "python",
   "nbconvert_exporter": "python",
   "pygments_lexer": "ipython3",
   "version": "3.7.1"
  }
 },
 "nbformat": 4,
 "nbformat_minor": 2
}
