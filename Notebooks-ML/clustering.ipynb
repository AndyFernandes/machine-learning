{
 "cells": [
  {
   "cell_type": "code",
   "execution_count": 9,
   "metadata": {},
   "outputs": [],
   "source": [
    "# import libraries\n",
    "\n",
    "# linear algebra\n",
    "import numpy as np \n",
    "# data processing\n",
    "import pandas as pd \n",
    "# data visualization\n",
    "from matplotlib import pyplot as plt \n",
    "from math import sqrt"
   ]
  },
  {
   "cell_type": "code",
   "execution_count": 10,
   "metadata": {},
   "outputs": [],
   "source": [
    "def calculate_initial_centers(dataset, k):\n",
    "    centroids = []\n",
    "    n = dataset.shape[1]\n",
    "    minimos = np.min(dataset,  axis = 0)\n",
    "    maximos = np.max(dataset, axis = 0)\n",
    "    for i in range(0, k):\n",
    "        centroids.append(np.random.uniform(minimos, maximos, n))\n",
    "    return np.array(centroids)"
   ]
  },
  {
   "cell_type": "code",
   "execution_count": 11,
   "metadata": {},
   "outputs": [],
   "source": [
    "def euclidian_distance(a, b):\n",
    "    return sqrt(np.sum([(i - j)**2 for i, j in zip(a,b)]))"
   ]
  },
  {
   "cell_type": "code",
   "execution_count": 12,
   "metadata": {},
   "outputs": [],
   "source": [
    "def distance_manhattan(x1, x2):\n",
    "    return np.sum([abs(i-j) for i, j in zip(x1,x2)])\n"
   ]
  },
  {
   "cell_type": "code",
   "execution_count": 13,
   "metadata": {},
   "outputs": [],
   "source": [
    "def nearest_centroid(a, centroids):\n",
    "    dist = [euclidian_distance(a, centro) for centro in centroids]\n",
    "    for i in range(0, len(dist)):\n",
    "        if dist[i] == min(dist):\n",
    "            nearest_index = i\n",
    "            break\n",
    "    return nearest_index"
   ]
  },
  {
   "cell_type": "code",
   "execution_count": 14,
   "metadata": {},
   "outputs": [],
   "source": [
    "def all_nearest_centroids(dataset, centroids):\n",
    "    nearest_indexes = []\n",
    "    for row in dataset:\n",
    "        nearest_indexes.append(nearest_centroid(row, centroids))\n",
    "    return np.array(nearest_indexes)"
   ]
  },
  {
   "cell_type": "code",
   "execution_count": 15,
   "metadata": {},
   "outputs": [],
   "source": [
    "def inertia(dataset, centroids, nearest_indexes):\n",
    "    inertia = np.sum([euclidian_distance(dataset[i], centroids[nearest_indexes[i]])**2 for i in range(0, len(dataset))])\n",
    "    return inertia"
   ]
  },
  {
   "cell_type": "code",
   "execution_count": 16,
   "metadata": {},
   "outputs": [],
   "source": [
    "def update_centroids(dataset, centroids, nearest_indexes):\n",
    "    dimensao = len(np.unique(nearest_indexes))\n",
    "    soma = np.zeros((dimensao, dataset.shape[1]))\n",
    "    total = np.zeros(dimensao)\n",
    "    for i in range(0, len(dataset)):\n",
    "        soma[nearest_indexes[i]] += dataset[i]\n",
    "        total[nearest_indexes[i]] += 1\n",
    "    \n",
    "    centroids = [soma[i]/total[i] for i in range(0, dimensao)]\n",
    "    return np.array(centroids)"
   ]
  },
  {
   "cell_type": "code",
   "execution_count": 21,
   "metadata": {},
   "outputs": [],
   "source": [
    "def kmeans(X, K, distance_metric=None, max_iter=None, num_rep=None):    \n",
    "    cluster_index = []\n",
    "    centroids = []\n",
    "    inertias = []\n",
    "    \n",
    "    if max_iter is None:\n",
    "        max_iter = 10\n",
    "    else:\n",
    "        max_iter = max_iter\n",
    "        \n",
    "    if distance_metric is None:\n",
    "        distance_metric = 'euclidean'\n",
    "    else:\n",
    "        distance_metric = distance_metric\n",
    "        \n",
    "    if num_rep is None:\n",
    "        num_rep = 100\n",
    "    else:\n",
    "        num_rep = num_rep\n",
    "        \n",
    "    for index in range(0, num_rep):\n",
    "        cluster_centers = calculate_initial_centers(X, K)\n",
    "        labels = all_nearest_centroids(X, cluster_centers)\n",
    "        old_inertia = inertia(X, cluster_centers, labels)\n",
    "        inertia_ = [] \n",
    "        inertia_.append(old_inertia)\n",
    "        for inter in range(0, max_inter):\n",
    "            cluster_centers = update_centroids(X, K, labels)\n",
    "            labels = all_nearest_centroids(X, cluster_centers)\n",
    "            inertia_.append(inertia(X, cluster_centers, labels))\n",
    "        cluster_index.append(labels)\n",
    "        centroids.append(cluster_centers)\n",
    "        inertias.append(inertia_)\n",
    "    \n",
    "        indice = np.argmin(inestias[:,-1])\n",
    "    \n",
    "    return {'cluster_index': cluster_index[indice], 'centroids': centroids[indice], 'loss': inertias[indice]}\n",
    "    \n",
    "def predict(X, cluster_centers):\n",
    "    return all_nearest_centroids(X, cluster_centers)"
   ]
  },
  {
   "cell_type": "code",
   "execution_count": null,
   "metadata": {},
   "outputs": [],
   "source": []
  }
 ],
 "metadata": {
  "kernelspec": {
   "display_name": "Python 3",
   "language": "python",
   "name": "python3"
  },
  "language_info": {
   "codemirror_mode": {
    "name": "ipython",
    "version": 3
   },
   "file_extension": ".py",
   "mimetype": "text/x-python",
   "name": "python",
   "nbconvert_exporter": "python",
   "pygments_lexer": "ipython3",
   "version": "3.7.3"
  }
 },
 "nbformat": 4,
 "nbformat_minor": 2
}
