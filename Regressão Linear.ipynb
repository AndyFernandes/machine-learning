{
 "cells": [
  {
   "cell_type": "markdown",
   "metadata": {},
   "source": [
    "# OBS: Botar as fórmulas aqui\n",
    "# Regressão Linear\n",
    "\n",
    ">  1. Implementação Regressão Linear Univariada via Gradiente Descendente\n",
    ">  2. Implementação Regressão Linear univariada via Gradiente Descendente Estocástico\n",
    ">  3. Implementação Regressão Linear Multivariada via Gradiente Descendente\n",
    ">  4. Implementação Regressão Linear Multivariada via Gradiente Descendente Estocástico\n",
    ">  4. Implementação Regressão Linear Analítica - OLS - Minímos quadrados ordinários\n",
    "\n",
    "---\n",
    "### Como saber se está correto?\n",
    "> - 1: \n",
    "    > > - a. plotar passando os w1 e w2 que plotam a reta de y\n",
    "    > > - b. Pega o menor valor dos dados e o maior valor, ai gera valores uniformemente espaçados e boto pra calcular usando esses valores como meu x usando o multiravariado\n",
    "> - 2: observar a função custo no treinamento"
   ]
  },
  {
   "cell_type": "code",
   "execution_count": 5,
   "metadata": {},
   "outputs": [],
   "source": [
    "import numpy as np\n",
    "import pandas as pd\n",
    "import matplotlib.pyplot as plt\n",
    "\n",
    "data = pd.read_csv(\"data.csv\")\n",
    "n = data.shape[0]"
   ]
  },
  {
   "cell_type": "markdown",
   "metadata": {},
   "source": [
    "# 1. Implementação Regressão Linear Univariada via Gradiente Descendente"
   ]
  },
  {
   "cell_type": "code",
   "execution_count": 16,
   "metadata": {},
   "outputs": [
    {
     "data": {
      "text/plain": [
       "[<matplotlib.lines.Line2D at 0x11374acc0>]"
      ]
     },
     "execution_count": 16,
     "metadata": {},
     "output_type": "execute_result"
    },
    {
     "data": {
      "image/png": "[encoded data removed]",
      "text/plain": [
       "<Figure size 432x288 with 1 Axes>"
      ]
     },
     "metadata": {},
     "output_type": "display_data"
    }
   ],
   "source": [
    "w1, w2, alpha = 0., 0., 0.01\n",
    "y = np.array(data['y'])\n",
    "x = np.array(data['x'])\n",
    "y_linha = 0\n",
    "custo = []\n",
    "\n",
    "for _ in range(0,1000): \n",
    "    sum_w1 = 0\n",
    "    sum_w2 = 0\n",
    "    sum_2 = 0\n",
    "    for i in range(0, n):\n",
    "        y_linha = w1 + w2*x[i]\n",
    "        sum_w1 += y[i] - y_linha\n",
    "        sum_w2 += (y[i] - y_linha) * x[i]\n",
    "        sum_2 += (y[i] - w1 - w2*x[i]) ** 2\n",
    "    w1 += (alpha*1/n) * sum_w1\n",
    "    w2 += alpha*1/n * sum_w2\n",
    "    custo.append((1/(2*n))*sum_2)\n",
    "#print(custo)\n",
    "plt.plot(custo)"
   ]
  },
  {
   "cell_type": "markdown",
   "metadata": {},
   "source": [
    "# 2. Implementação Regressão Linear Univariada via Gradiente Descendente Estocástico"
   ]
  },
  {
   "cell_type": "markdown",
   "metadata": {},
   "source": [
    "# 3. Implementação Regressão Linear Multivariada via Gradiente Descendente"
   ]
  },
  {
   "cell_type": "code",
   "execution_count": 146,
   "metadata": {},
   "outputs": [
    {
     "data": {
      "text/plain": [
       "[<matplotlib.lines.Line2D at 0x7f3e8f7b4400>]"
      ]
     },
     "execution_count": 146,
     "metadata": {},
     "output_type": "execute_result"
    },
    {
     "data": {
      "image/png": "[encoded data removed]",
      "text/plain": [
       "<Figure size 432x288 with 1 Axes>"
      ]
     },
     "metadata": {
      "needs_background": "light"
     },
     "output_type": "display_data"
    }
   ],
   "source": [
    "x = data['x'][:, None]\n",
    "y = data['y'][:, None]\n",
    "alpha = 0.01\n",
    "w = np.zeros(data.shape[1])\n",
    "y_linha_vector = []\n",
    "y_linha = np.zeros(n)\n",
    "vector_ones = np.ones((x.shape))\n",
    "x = np.hstack((vector_ones, x))\n",
    "erros = []\n",
    "\n",
    "for ephoca in range(0, 1000):\n",
    "    sum_ = 0\n",
    "    sum_2 = 0\n",
    "    for i in range(0, n):\n",
    "        y_linha = np.dot(np.transpose(w),x[i])\n",
    "        y_linha_vector.append(np.dot(np.transpose(w),x[i]))\n",
    "        sum_ += (y[i] - y_linha) * np.transpose(x[i])\n",
    "        sum_2 += (y[i] - y_linha) ** 2\n",
    "    erros.append((1/(2*n))*sum_2)\n",
    "    w += (alpha*(1/n))*sum_\n",
    "#print(erros)\n",
    "plt.plot(erros)\n",
    "    "
   ]
  },
  {
   "cell_type": "markdown",
   "metadata": {},
   "source": [
    "# 4. Implementação Regressão Linear Multivariada via Gradiente Descendente Estocástico"
   ]
  },
  {
   "cell_type": "code",
   "execution_count": null,
   "metadata": {},
   "outputs": [],
   "source": [
    "x = data['x'][:, None]\n",
    "y = data['y'][:, None]\n",
    "passo = 0.01\n",
    "w = np.zeros(data.shape[1])\n",
    "y_linha_vector = []\n",
    "y_linha = np.zeros(n)\n",
    "vector_ones = np.ones((x.shape))\n",
    "vector_ones\n",
    "x = np.hstack((vector_ones, x))\n",
    "erros = []\n",
    "\n",
    "for _ in range(0, 1000):\n",
    "    sum_2 = 0\n",
    "    erro = 0\n",
    "    for i in range(0, n):\n",
    "        y_linha = np.dot(np.transpose(w),x[i])\n",
    "        y_linha_vector.append(np.dot(np.transpose(w),x[i]))\n",
    "        sum_2 += (y[i] - y_linha) ** 2\n",
    "        erro \n",
    "    erros.append((1/(2*n))*sum_2)\n",
    "    w += (passo*1/n)*\n"
   ]
  },
  {
   "cell_type": "markdown",
   "metadata": {},
   "source": [
    "# 5. Implementação Regressão Linear Analítica"
   ]
  },
  {
   "cell_type": "code",
   "execution_count": null,
   "metadata": {},
   "outputs": [],
   "source": []
  }
 ],
 "metadata": {
  "kernelspec": {
   "display_name": "Python 3",
   "language": "python",
   "name": "python3"
  },
  "language_info": {
   "codemirror_mode": {
    "name": "ipython",
    "version": 3
   },
   "file_extension": ".py",
   "mimetype": "text/x-python",
   "name": "python",
   "nbconvert_exporter": "python",
   "pygments_lexer": "ipython3",
   "version": "3.6.5"
  }
 },
 "nbformat": 4,
 "nbformat_minor": 2
}
